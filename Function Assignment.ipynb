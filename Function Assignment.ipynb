{
 "cells": [
  {
   "cell_type": "code",
   "execution_count": 2,
   "id": "37921a50-6264-456a-95e8-9b510535e387",
   "metadata": {},
   "outputs": [],
   "source": [
    "#Q1 Write a Python function that takes a list of numbers as input and returns the sum of all even numbers in the list?"
   ]
  },
  {
   "cell_type": "code",
   "execution_count": 3,
   "id": "cce686c0-dd01-41d3-9efb-46eca0eb5c03",
   "metadata": {},
   "outputs": [
    {
     "data": {
      "text/plain": [
       "16"
      ]
     },
     "execution_count": 3,
     "metadata": {},
     "output_type": "execute_result"
    }
   ],
   "source": [
    "from functools import reduce\n",
    "lis=[2,5,3,6,8,11]\n",
    "even=filter(lambda x:x%2==0,lis)\n",
    "reduce(lambda a,b:a+b,even)"
   ]
  },
  {
   "cell_type": "code",
   "execution_count": 4,
   "id": "77e0eab2-cd6f-497c-a30b-2700ff3ba001",
   "metadata": {},
   "outputs": [],
   "source": [
    "#Q2 Create a Python function that accepts a string and returns the reverse of that string?"
   ]
  },
  {
   "cell_type": "code",
   "execution_count": 5,
   "id": "ae4c2353-0116-4fa6-afd9-2d51f6e1b286",
   "metadata": {},
   "outputs": [
    {
     "data": {
      "text/plain": [
       "'sllikswp'"
      ]
     },
     "execution_count": 5,
     "metadata": {},
     "output_type": "execute_result"
    }
   ],
   "source": [
    "string=\"pwskills\"\n",
    "def func(string):\n",
    "    return string[::-1]\n",
    "func(string)"
   ]
  },
  {
   "cell_type": "code",
   "execution_count": 6,
   "id": "8049bcb7-73c9-42b1-a8d1-bf15804431df",
   "metadata": {},
   "outputs": [],
   "source": [
    "#Q3 Implement a Python function that takes a list of integers and returns a new list containing the squares of each number?"
   ]
  },
  {
   "cell_type": "code",
   "execution_count": 7,
   "id": "4d062e2b-f886-4210-9a65-c7d886d8083c",
   "metadata": {},
   "outputs": [
    {
     "data": {
      "text/plain": [
       "[1, 4, 9, 16, 25]"
      ]
     },
     "execution_count": 7,
     "metadata": {},
     "output_type": "execute_result"
    }
   ],
   "source": [
    "lis=[1,2,3,4,5]\n",
    "def square(lis):\n",
    "    result=[]\n",
    "    for i in lis:\n",
    "        result.append(i**2)\n",
    "    return result\n",
    "square(lis)"
   ]
  },
  {
   "cell_type": "code",
   "execution_count": 8,
   "id": "400c563c-a919-4756-bdac-0ae70bd98477",
   "metadata": {},
   "outputs": [],
   "source": [
    "#Q4 Write a Python function that checks if a given number is prime or not from 1 to 200?"
   ]
  },
  {
   "cell_type": "code",
   "execution_count": 9,
   "id": "42e0e52e-7496-4890-9a83-864b3b0aeb2d",
   "metadata": {},
   "outputs": [
    {
     "data": {
      "text/plain": [
       "[2,\n",
       " 3,\n",
       " 5,\n",
       " 7,\n",
       " 11,\n",
       " 13,\n",
       " 17,\n",
       " 19,\n",
       " 23,\n",
       " 29,\n",
       " 31,\n",
       " 37,\n",
       " 41,\n",
       " 43,\n",
       " 47,\n",
       " 53,\n",
       " 59,\n",
       " 61,\n",
       " 67,\n",
       " 71,\n",
       " 73,\n",
       " 79,\n",
       " 83,\n",
       " 89,\n",
       " 97]"
      ]
     },
     "execution_count": 9,
     "metadata": {},
     "output_type": "execute_result"
    }
   ],
   "source": [
    "def prime(n):\n",
    "    for i in range(2,(n//2)+1):\n",
    "        if n%i==0:\n",
    "            return False\n",
    "    return True\n",
    "[i for i in range(2,100) if prime(i)==True]"
   ]
  },
  {
   "cell_type": "code",
   "execution_count": 10,
   "id": "203ca82d-0d33-46be-b2fc-8ed7140d71dc",
   "metadata": {},
   "outputs": [],
   "source": [
    "#Q5 Create an iterator class in Python that generates the Fibonacci sequence up to a specified number of terms?"
   ]
  },
  {
   "cell_type": "code",
   "execution_count": 11,
   "id": "6b27e178-8b7a-4c7b-92aa-e6789910d2a0",
   "metadata": {},
   "outputs": [],
   "source": [
    "def fib(n):\n",
    "    a=0\n",
    "    b=1\n",
    "    for i in range(n):\n",
    "        yield a\n",
    "        a,b=b,a+b\n",
    "a=fib(20)"
   ]
  },
  {
   "cell_type": "code",
   "execution_count": 12,
   "id": "4e6bedb9-336d-43d9-aed0-3194ed7811ac",
   "metadata": {},
   "outputs": [
    {
     "data": {
      "text/plain": [
       "0"
      ]
     },
     "execution_count": 12,
     "metadata": {},
     "output_type": "execute_result"
    }
   ],
   "source": [
    "next(a)"
   ]
  },
  {
   "cell_type": "code",
   "execution_count": 13,
   "id": "7875152e-aad1-4a91-9da4-26ccce4df663",
   "metadata": {},
   "outputs": [
    {
     "data": {
      "text/plain": [
       "1"
      ]
     },
     "execution_count": 13,
     "metadata": {},
     "output_type": "execute_result"
    }
   ],
   "source": [
    "next(a)"
   ]
  },
  {
   "cell_type": "code",
   "execution_count": 14,
   "id": "f4862260-1c3c-4462-abf8-dc3f88c5095f",
   "metadata": {},
   "outputs": [
    {
     "data": {
      "text/plain": [
       "1"
      ]
     },
     "execution_count": 14,
     "metadata": {},
     "output_type": "execute_result"
    }
   ],
   "source": [
    "next(a)"
   ]
  },
  {
   "cell_type": "code",
   "execution_count": 15,
   "id": "2c6ae834-6418-49c6-8140-234c7a87319f",
   "metadata": {},
   "outputs": [
    {
     "data": {
      "text/plain": [
       "2"
      ]
     },
     "execution_count": 15,
     "metadata": {},
     "output_type": "execute_result"
    }
   ],
   "source": [
    "next(a)"
   ]
  },
  {
   "cell_type": "code",
   "execution_count": 16,
   "id": "7c03c12d-8dfe-40c9-8acd-7c12431ab361",
   "metadata": {},
   "outputs": [
    {
     "data": {
      "text/plain": [
       "3"
      ]
     },
     "execution_count": 16,
     "metadata": {},
     "output_type": "execute_result"
    }
   ],
   "source": [
    "next(a)"
   ]
  },
  {
   "cell_type": "code",
   "execution_count": 17,
   "id": "467550c8-a170-4ab6-968b-ac0b6e2c6e2f",
   "metadata": {},
   "outputs": [
    {
     "data": {
      "text/plain": [
       "5"
      ]
     },
     "execution_count": 17,
     "metadata": {},
     "output_type": "execute_result"
    }
   ],
   "source": [
    "next(a)"
   ]
  },
  {
   "cell_type": "code",
   "execution_count": 18,
   "id": "d03ac50f-991e-4a0d-a505-bf1441437089",
   "metadata": {},
   "outputs": [],
   "source": [
    "#Q6 Write a generator function in Python that yields the powers of 2 up to a given exponent?"
   ]
  },
  {
   "cell_type": "code",
   "execution_count": 19,
   "id": "f45008b0-16f9-4ece-8d08-fd8738aea4ad",
   "metadata": {},
   "outputs": [],
   "source": [
    "def power(n):\n",
    "    for i in range(n):\n",
    "        yield 2**i\n",
    "p=power(10)"
   ]
  },
  {
   "cell_type": "code",
   "execution_count": 20,
   "id": "eec21fe9-cfde-4b1a-9e88-3ddda0d7768e",
   "metadata": {},
   "outputs": [
    {
     "data": {
      "text/plain": [
       "1"
      ]
     },
     "execution_count": 20,
     "metadata": {},
     "output_type": "execute_result"
    }
   ],
   "source": [
    "next(p)"
   ]
  },
  {
   "cell_type": "code",
   "execution_count": 21,
   "id": "63a3953b-76fc-497e-9a59-a33b1f344adc",
   "metadata": {},
   "outputs": [
    {
     "data": {
      "text/plain": [
       "2"
      ]
     },
     "execution_count": 21,
     "metadata": {},
     "output_type": "execute_result"
    }
   ],
   "source": [
    "next(p)"
   ]
  },
  {
   "cell_type": "code",
   "execution_count": 22,
   "id": "972febd6-805c-426b-b495-887a0275fcd4",
   "metadata": {},
   "outputs": [
    {
     "data": {
      "text/plain": [
       "4"
      ]
     },
     "execution_count": 22,
     "metadata": {},
     "output_type": "execute_result"
    }
   ],
   "source": [
    "next(p)"
   ]
  },
  {
   "cell_type": "code",
   "execution_count": 23,
   "id": "f14ff9c8-b04c-4999-b9f4-1940e0a153b2",
   "metadata": {},
   "outputs": [
    {
     "data": {
      "text/plain": [
       "8"
      ]
     },
     "execution_count": 23,
     "metadata": {},
     "output_type": "execute_result"
    }
   ],
   "source": [
    "next(p)"
   ]
  },
  {
   "cell_type": "code",
   "execution_count": 24,
   "id": "508e39cd-6f62-4751-b806-6bf3194e1aec",
   "metadata": {},
   "outputs": [
    {
     "data": {
      "text/plain": [
       "16"
      ]
     },
     "execution_count": 24,
     "metadata": {},
     "output_type": "execute_result"
    }
   ],
   "source": [
    "next(p)"
   ]
  },
  {
   "cell_type": "code",
   "execution_count": 25,
   "id": "a48ea97c-3eb5-40b2-84b6-39bcbfd06409",
   "metadata": {},
   "outputs": [],
   "source": [
    "#Q7 Implement a generator function that reads a file line by line and yields each line as a string?"
   ]
  },
  {
   "cell_type": "code",
   "execution_count": 26,
   "id": "1d449db1-606e-475b-a162-5a45c94814d1",
   "metadata": {},
   "outputs": [],
   "source": [
    "def func(n):\n",
    "    for i in n:\n",
    "        yield str(i)\n",
    "f=func([1,2,3,4,\"pwskills\",\"data\"])"
   ]
  },
  {
   "cell_type": "code",
   "execution_count": 27,
   "id": "4ad8426f-f667-4e62-9121-f1e95ba0f599",
   "metadata": {},
   "outputs": [
    {
     "data": {
      "text/plain": [
       "'1'"
      ]
     },
     "execution_count": 27,
     "metadata": {},
     "output_type": "execute_result"
    }
   ],
   "source": [
    "next(f)"
   ]
  },
  {
   "cell_type": "code",
   "execution_count": 28,
   "id": "b063f89f-fd44-4746-b905-d21f078998c3",
   "metadata": {},
   "outputs": [
    {
     "data": {
      "text/plain": [
       "'2'"
      ]
     },
     "execution_count": 28,
     "metadata": {},
     "output_type": "execute_result"
    }
   ],
   "source": [
    "next(f)"
   ]
  },
  {
   "cell_type": "code",
   "execution_count": 29,
   "id": "273c97ef-39cf-4edd-8eba-e3e1b7d5ad50",
   "metadata": {},
   "outputs": [
    {
     "data": {
      "text/plain": [
       "'3'"
      ]
     },
     "execution_count": 29,
     "metadata": {},
     "output_type": "execute_result"
    }
   ],
   "source": [
    "next(f)"
   ]
  },
  {
   "cell_type": "code",
   "execution_count": 30,
   "id": "e5cd9209-461a-4375-849f-ec261a8d50a9",
   "metadata": {},
   "outputs": [
    {
     "data": {
      "text/plain": [
       "'4'"
      ]
     },
     "execution_count": 30,
     "metadata": {},
     "output_type": "execute_result"
    }
   ],
   "source": [
    "next(f)"
   ]
  },
  {
   "cell_type": "code",
   "execution_count": 31,
   "id": "38fbb848-b899-4529-8964-0afc2caa5a40",
   "metadata": {},
   "outputs": [
    {
     "data": {
      "text/plain": [
       "'pwskills'"
      ]
     },
     "execution_count": 31,
     "metadata": {},
     "output_type": "execute_result"
    }
   ],
   "source": [
    "next(f)"
   ]
  },
  {
   "cell_type": "code",
   "execution_count": 32,
   "id": "1d5eb0bf-09f8-4470-98ee-a933d843daba",
   "metadata": {},
   "outputs": [],
   "source": [
    "#Q8 Use a lambda function in Python to sort a list of tuples based on the second element of each tuple?"
   ]
  },
  {
   "cell_type": "code",
   "execution_count": 33,
   "id": "5519f46b-495e-4480-b7c1-628ca434d703",
   "metadata": {},
   "outputs": [
    {
     "data": {
      "text/plain": [
       "[(7, 1, 87), (1, 2, 3), (99, 5, 2), (22, 11, 10)]"
      ]
     },
     "execution_count": 33,
     "metadata": {},
     "output_type": "execute_result"
    }
   ],
   "source": [
    "lis=[(1,2,3),(7,1,87),(22,11,10),(99,5,2)]\n",
    "cond=lambda x:x[1]\n",
    "sorted(lis,key=cond)"
   ]
  },
  {
   "cell_type": "code",
   "execution_count": 34,
   "id": "cf708e39-2d52-4b89-b1b3-cb5fa38f326a",
   "metadata": {},
   "outputs": [],
   "source": [
    "#Q9 Write a Python program that uses `map()` to convert a list of temperatures from Celsius to Fahrenheit?"
   ]
  },
  {
   "cell_type": "code",
   "execution_count": 35,
   "id": "da2ed521-7f07-4631-8fe4-c9a7d77b246c",
   "metadata": {},
   "outputs": [
    {
     "name": "stdout",
     "output_type": "stream",
     "text": [
      "[71.6, 95.0, 172.4, 197.6]\n"
     ]
    }
   ],
   "source": [
    "lis=[22,35,78,92]\n",
    "p=map(lambda x:(x*9/5)+32,lis)\n",
    "print(list(p))"
   ]
  },
  {
   "cell_type": "code",
   "execution_count": 36,
   "id": "4bb53190-0161-44f7-8cf8-31cb14bff159",
   "metadata": {},
   "outputs": [],
   "source": [
    "#Q10 Create a Python program that uses `filter()` to remove all the vowels from a given strin"
   ]
  },
  {
   "cell_type": "code",
   "execution_count": 37,
   "id": "104d3313-e4eb-49da-9ff8-80e905f0697b",
   "metadata": {},
   "outputs": [
    {
     "data": {
      "text/plain": [
       "['p', 'w', 's', 'k', 'l', 'l', 's']"
      ]
     },
     "execution_count": 37,
     "metadata": {},
     "output_type": "execute_result"
    }
   ],
   "source": [
    "string=\"pwskills\"\n",
    "list(filter(lambda x:x if x not in [\"a\",\"e\",\"i\",\"o\",\"u\"] else \"\" ,string))"
   ]
  },
  {
   "cell_type": "code",
   "execution_count": 38,
   "id": "4041daac-e397-4895-b96b-db7b2c018449",
   "metadata": {},
   "outputs": [],
   "source": [
    "#Q11 Imagine an accounting routine used in a book shop. It works on a list with sublists, which look like this"
   ]
  },
  {
   "cell_type": "code",
   "execution_count": 39,
   "id": "0c554f9a-10ff-4c6a-8b54-d966c350ff84",
   "metadata": {},
   "outputs": [
    {
     "name": "stdout",
     "output_type": "stream",
     "text": [
      "621620.0\n"
     ]
    },
    {
     "data": {
      "text/plain": [
       "[40.95, 56.8, 32.95, 24.99]"
      ]
     },
     "execution_count": 39,
     "metadata": {},
     "output_type": "execute_result"
    }
   ],
   "source": [
    "from functools import reduce\n",
    "order_no=[34587,98762,77226,88112]\n",
    "price_per_item=[40.95,56.80,32.95,24.99]\n",
    "quantity=[4000,5000,3000,3000]\n",
    "total_price=map(lambda x,y:x*y,price_per_item,quantity)\n",
    "l=list(total_price)\n",
    "r=(reduce(lambda x,y:x+y,l))\n",
    "print(r)\n",
    "list(map(lambda x:x+10 if r<100000 else x,price_per_item))"
   ]
  },
  {
   "cell_type": "code",
   "execution_count": 40,
   "id": "9248494d-73d6-434b-8b01-ea19b4fb6785",
   "metadata": {},
   "outputs": [
    {
     "data": {
      "text/plain": [
       "'Theory Questions'"
      ]
     },
     "execution_count": 40,
     "metadata": {},
     "output_type": "execute_result"
    }
   ],
   "source": [
    "'''Theory Questions'''"
   ]
  },
  {
   "cell_type": "code",
   "execution_count": 41,
   "id": "51c106ce-8c67-43ae-a8dd-ffa6c2e054d1",
   "metadata": {},
   "outputs": [],
   "source": [
    "#Q1 What is the difference between a function and a method in Python?"
   ]
  },
  {
   "cell_type": "code",
   "execution_count": 42,
   "id": "1604968d-c5c1-4d20-99c1-4e71095b6a15",
   "metadata": {},
   "outputs": [
    {
     "name": "stdout",
     "output_type": "stream",
     "text": [
      "Function is a piece of code that can be used multiple times and can be used anywhere user want\n",
      " \n",
      "while method is used at a time at that place only in class\n"
     ]
    }
   ],
   "source": [
    "ans='''Function is a piece of code that can be used multiple times and can be used anywhere user want\\n \n",
    "while method is used at a time at that place only in class'''\n",
    "print(ans)"
   ]
  },
  {
   "cell_type": "code",
   "execution_count": 43,
   "id": "fa6f53c3-ae49-48de-a99a-a4752f5d88e2",
   "metadata": {},
   "outputs": [
    {
     "data": {
      "text/plain": [
       "9"
      ]
     },
     "execution_count": 43,
     "metadata": {},
     "output_type": "execute_result"
    }
   ],
   "source": [
    "def sum(a,b):\n",
    "    return a+b\n",
    "sum(5,4) #function"
   ]
  },
  {
   "cell_type": "code",
   "execution_count": 44,
   "id": "c6c422e5-c187-4643-ae5f-7d2fbb55f29a",
   "metadata": {},
   "outputs": [],
   "source": [
    "#Q2 Explain the concept of function arguments and parameters in Python?"
   ]
  },
  {
   "cell_type": "code",
   "execution_count": 45,
   "id": "f63fd961-6594-4243-8c19-2aba5260a962",
   "metadata": {},
   "outputs": [
    {
     "name": "stdout",
     "output_type": "stream",
     "text": [
      "Parameters are defined when function is declared\n",
      " \n",
      "while arguments are defined when function is called\n"
     ]
    }
   ],
   "source": [
    "ans='''Parameters are defined when function is declared\\n \n",
    "while arguments are defined when function is called'''\n",
    "print(ans)"
   ]
  },
  {
   "cell_type": "code",
   "execution_count": 46,
   "id": "8fe67821-1fd2-4268-a4d3-73d0716bad87",
   "metadata": {},
   "outputs": [
    {
     "data": {
      "text/plain": [
       "20"
      ]
     },
     "execution_count": 46,
     "metadata": {},
     "output_type": "execute_result"
    }
   ],
   "source": [
    "def func(a,b):#Parameters are in bracket\n",
    "    return a*b\n",
    "func(4,5)  #arguments are in this bracket"
   ]
  },
  {
   "cell_type": "code",
   "execution_count": 47,
   "id": "442c82e8-319c-4a9a-8737-3f63f870ca48",
   "metadata": {},
   "outputs": [],
   "source": [
    "#Q3 What are the different ways to define and call a function in Python?"
   ]
  },
  {
   "cell_type": "code",
   "execution_count": 48,
   "id": "8002ac04-20b1-478f-9a6b-5eeff6142412",
   "metadata": {},
   "outputs": [
    {
     "name": "stdout",
     "output_type": "stream",
     "text": [
      "There are different ways to define and call function in python\n",
      " \n",
      "like we can have positional argument, default argument, variable length arguments\n",
      " \n",
      "examples of all of these are given below\n"
     ]
    }
   ],
   "source": [
    "ans='''There are different ways to define and call function in python\\n \n",
    "like we can have positional argument, default argument, variable length arguments\\n \n",
    "examples of all of these are given below'''\n",
    "print(ans)"
   ]
  },
  {
   "cell_type": "code",
   "execution_count": 49,
   "id": "03b6d810-c58a-4c2f-94de-cd1eddfb01da",
   "metadata": {},
   "outputs": [
    {
     "data": {
      "text/plain": [
       "(2, 3)"
      ]
     },
     "execution_count": 49,
     "metadata": {},
     "output_type": "execute_result"
    }
   ],
   "source": [
    "def func(a,b): #positional argument as both a and b have to be there to execute this function\n",
    "    return (a,b)\n",
    "func(2,3)"
   ]
  },
  {
   "cell_type": "code",
   "execution_count": 50,
   "id": "ad2f80fd-a395-4d0f-b0ac-589981e78dd7",
   "metadata": {},
   "outputs": [
    {
     "data": {
      "text/plain": [
       "(2, 5)"
      ]
     },
     "execution_count": 50,
     "metadata": {},
     "output_type": "execute_result"
    }
   ],
   "source": [
    "def func(a=2,b=5):  #Default argument: if we dont provide value of a and b while calling function, then also it will be executed by own by using default arguments\n",
    "    return(a,b)\n",
    "func()"
   ]
  },
  {
   "cell_type": "code",
   "execution_count": 51,
   "id": "5a186e56-7949-4900-a177-6b90d9ce4c10",
   "metadata": {},
   "outputs": [
    {
     "data": {
      "text/plain": [
       "(3, 5, 6)"
      ]
     },
     "execution_count": 51,
     "metadata": {},
     "output_type": "execute_result"
    }
   ],
   "source": [
    "def func(*a): #Variable length argument: here argument can be of any length\n",
    "    return a\n",
    "func(3,5,6)"
   ]
  },
  {
   "cell_type": "code",
   "execution_count": 52,
   "id": "3ec2a11f-5a45-4a18-aeac-38e3147ca597",
   "metadata": {},
   "outputs": [],
   "source": [
    "#Q4 What is the purpose of the `return` statement in a Python function?"
   ]
  },
  {
   "cell_type": "code",
   "execution_count": 53,
   "id": "d4e78001-5488-4369-958c-ae103365f4ff",
   "metadata": {},
   "outputs": [
    {
     "name": "stdout",
     "output_type": "stream",
     "text": [
      " If we use print statement in function, then the type of function will be nothing\n",
      "\n",
      "But if we use return statement, then type of function would be same as return statement\n",
      "\n",
      "So, it help in concatenation and various complex actions\n"
     ]
    }
   ],
   "source": [
    "ans=''' If we use print statement in function, then the type of function will be nothing\\n\n",
    "But if we use return statement, then type of function would be same as return statement\\n\n",
    "So, it help in concatenation and various complex actions'''\n",
    "print(ans)"
   ]
  },
  {
   "cell_type": "code",
   "execution_count": 54,
   "id": "d4022784-2260-4f8e-9e8e-231c00f807eb",
   "metadata": {},
   "outputs": [
    {
     "name": "stdout",
     "output_type": "stream",
     "text": [
      "2\n"
     ]
    },
    {
     "data": {
      "text/plain": [
       "NoneType"
      ]
     },
     "execution_count": 54,
     "metadata": {},
     "output_type": "execute_result"
    }
   ],
   "source": [
    "def func(a):\n",
    "    print(a)\n",
    "type(func(2))"
   ]
  },
  {
   "cell_type": "code",
   "execution_count": 55,
   "id": "5f75c3de-1323-4be3-8507-f6d6b86973f3",
   "metadata": {},
   "outputs": [
    {
     "data": {
      "text/plain": [
       "int"
      ]
     },
     "execution_count": 55,
     "metadata": {},
     "output_type": "execute_result"
    }
   ],
   "source": [
    "def func(a):\n",
    "    return a\n",
    "type(func(2))"
   ]
  },
  {
   "cell_type": "code",
   "execution_count": 56,
   "id": "6327ebdb-8e2c-4d78-9103-74ad4d93a0c2",
   "metadata": {},
   "outputs": [],
   "source": [
    "#Q5 What are iterators in Python and how do they differ from iterables?"
   ]
  },
  {
   "cell_type": "code",
   "execution_count": 57,
   "id": "65041600-652b-4d50-8129-5f5048be7e78",
   "metadata": {},
   "outputs": [
    {
     "name": "stdout",
     "output_type": "stream",
     "text": [
      "Iterators are intermediate object that can be iterated i.e it can return data one by one\n",
      "\n",
      "Iterables can't be iterated directly, first they have to be converted in iterable objects\n",
      "\n",
      "like first we have to convert string,list(iterables) into iterator object, only then we will be able to iterate them\n"
     ]
    }
   ],
   "source": [
    "ans='''Iterators are intermediate object that can be iterated i.e it can return data one by one\\n\n",
    "Iterables can't be iterated directly, first they have to be converted in iterable objects\\n\n",
    "like first we have to convert string,list(iterables) into iterator object, only then we will be able to iterate them'''\n",
    "print(ans)"
   ]
  },
  {
   "cell_type": "code",
   "execution_count": 58,
   "id": "507a011f-388a-415f-a433-484991301b0e",
   "metadata": {},
   "outputs": [
    {
     "data": {
      "text/plain": [
       "'p'"
      ]
     },
     "execution_count": 58,
     "metadata": {},
     "output_type": "execute_result"
    }
   ],
   "source": [
    "string=\"pwskills\" #This is iterable but can't be iterated directly in python, we have first convert it into iterator object\n",
    "a=iter(string) #iter keyword is used to convert it into itrarator\n",
    "next(a) #Then by using next, it can be iterated"
   ]
  },
  {
   "cell_type": "code",
   "execution_count": 59,
   "id": "6d1d878c-8458-4e4b-ae5a-a2f6361f4483",
   "metadata": {},
   "outputs": [
    {
     "data": {
      "text/plain": [
       "'w'"
      ]
     },
     "execution_count": 59,
     "metadata": {},
     "output_type": "execute_result"
    }
   ],
   "source": [
    "next(a)"
   ]
  },
  {
   "cell_type": "code",
   "execution_count": 60,
   "id": "c8b8c257-8ed4-45ab-98d3-13cfad64490d",
   "metadata": {},
   "outputs": [],
   "source": [
    "#Q6  Explain the concept of generators in Python and how they are defined?"
   ]
  },
  {
   "cell_type": "code",
   "execution_count": 61,
   "id": "22d3dd53-47a7-4a68-a712-aa0f092e620b",
   "metadata": {},
   "outputs": [
    {
     "name": "stdout",
     "output_type": "stream",
     "text": [
      "Generator are very important in python as they use less computational memory, power to compute anything\n",
      "\n",
      "for ex: If we calculate fibnocci series upto 200 in one go, it will consume lot of computaional memory and time\n",
      "\n",
      "But if use generators, they calculate fibnocci numberr one by one and consume less memory and less time in computation\n"
     ]
    }
   ],
   "source": [
    "ans='''Generator are very important in python as they use less computational memory, power to compute anything\\n\n",
    "for ex: If we calculate fibnocci series upto 200 in one go, it will consume lot of computaional memory and time\\n\n",
    "But if use generators, they calculate fibnocci numberr one by one and consume less memory and less time in computation'''\n",
    "print(ans)"
   ]
  },
  {
   "cell_type": "code",
   "execution_count": 62,
   "id": "75c6627b-9227-4bff-9847-1c45475f7b44",
   "metadata": {},
   "outputs": [
    {
     "data": {
      "text/plain": [
       "[0, 1, 1, 2, 3, 5, 8, 13, 21, 34]"
      ]
     },
     "execution_count": 62,
     "metadata": {},
     "output_type": "execute_result"
    }
   ],
   "source": [
    "fib=lambda x:x if x<=1 else fib(x-1)+fib(x-2) #Regular function \n",
    "[fib(i) for i in range(10)]"
   ]
  },
  {
   "cell_type": "code",
   "execution_count": 63,
   "id": "e844e798-0d30-416c-8b33-58ba4f1fdb14",
   "metadata": {},
   "outputs": [],
   "source": [
    "def fib(n):\n",
    "    a=0\n",
    "    b=1\n",
    "    for i in range(n):\n",
    "        yield a     #yield keyword is used for generators\n",
    "        a,b=b,a+b\n",
    "a=fib(20)"
   ]
  },
  {
   "cell_type": "code",
   "execution_count": 64,
   "id": "eab09d45-0973-4f17-a957-ec6dd806a780",
   "metadata": {},
   "outputs": [
    {
     "data": {
      "text/plain": [
       "0"
      ]
     },
     "execution_count": 64,
     "metadata": {},
     "output_type": "execute_result"
    }
   ],
   "source": [
    "next(a)"
   ]
  },
  {
   "cell_type": "code",
   "execution_count": 65,
   "id": "d3d4dace-d4cc-4181-a9a6-d4ed0184ca07",
   "metadata": {},
   "outputs": [
    {
     "data": {
      "text/plain": [
       "1"
      ]
     },
     "execution_count": 65,
     "metadata": {},
     "output_type": "execute_result"
    }
   ],
   "source": [
    "next(a)"
   ]
  },
  {
   "cell_type": "code",
   "execution_count": 66,
   "id": "f6933145-315b-458d-98de-47a1942956aa",
   "metadata": {},
   "outputs": [
    {
     "data": {
      "text/plain": [
       "1"
      ]
     },
     "execution_count": 66,
     "metadata": {},
     "output_type": "execute_result"
    }
   ],
   "source": [
    "next(a)"
   ]
  },
  {
   "cell_type": "code",
   "execution_count": 67,
   "id": "9c935fb7-49fe-4ac6-b2db-991b81ab726b",
   "metadata": {},
   "outputs": [
    {
     "data": {
      "text/plain": [
       "2"
      ]
     },
     "execution_count": 67,
     "metadata": {},
     "output_type": "execute_result"
    }
   ],
   "source": [
    "next(a)"
   ]
  },
  {
   "cell_type": "code",
   "execution_count": 68,
   "id": "1a16b825-4e02-47d7-85b0-079d5f499e41",
   "metadata": {},
   "outputs": [],
   "source": [
    "#Q7  What are the advantages of using generators over regular functions?"
   ]
  },
  {
   "cell_type": "code",
   "execution_count": 69,
   "id": "922c38a4-da14-4623-bf55-b1a87060a3aa",
   "metadata": {},
   "outputs": [
    {
     "name": "stdout",
     "output_type": "stream",
     "text": [
      "Already discussed in question 6th answer\n"
     ]
    }
   ],
   "source": [
    "ans='''Already discussed in question 6th answer'''\n",
    "print(ans)"
   ]
  },
  {
   "cell_type": "code",
   "execution_count": 70,
   "id": "3b736ee8-ec5a-4688-ac47-f57cf98caa8e",
   "metadata": {},
   "outputs": [],
   "source": [
    "#Q8 What is a lambda function in Python and when is it typically used?"
   ]
  },
  {
   "cell_type": "code",
   "execution_count": 71,
   "id": "7ea7f4f7-ad31-4aa1-8e75-444b8a7fd29a",
   "metadata": {},
   "outputs": [
    {
     "name": "stdout",
     "output_type": "stream",
     "text": [
      "Lambda function is anonymous function and also known as short hand function as it shortens the logic in a single line\n"
     ]
    }
   ],
   "source": [
    "ans='''Lambda function is anonymous function and also known as short hand function as it shortens the logic in a single line'''\n",
    "print(ans)"
   ]
  },
  {
   "cell_type": "code",
   "execution_count": 72,
   "id": "b2cd657d-77a2-43a8-9fb9-fe1a2dcff9c7",
   "metadata": {},
   "outputs": [
    {
     "data": {
      "text/plain": [
       "9"
      ]
     },
     "execution_count": 72,
     "metadata": {},
     "output_type": "execute_result"
    }
   ],
   "source": [
    "'''for ex, i have to add two numbers'''\n",
    "def add(a,b): #regular function\n",
    "    return a+b\n",
    "add(4,5)"
   ]
  },
  {
   "cell_type": "code",
   "execution_count": 73,
   "id": "77cd7a5d-9ff2-4984-9893-a19899878765",
   "metadata": {},
   "outputs": [
    {
     "data": {
      "text/plain": [
       "9"
      ]
     },
     "execution_count": 73,
     "metadata": {},
     "output_type": "execute_result"
    }
   ],
   "source": [
    "add=lambda x,y:x+y #lambda function\n",
    "add(4,5)"
   ]
  },
  {
   "cell_type": "code",
   "execution_count": 74,
   "id": "48e0bd22-2fff-4ee7-aee2-3369069da22f",
   "metadata": {},
   "outputs": [],
   "source": [
    "#Q9 Explain the purpose and usage of the `map()` function in Python?"
   ]
  },
  {
   "cell_type": "code",
   "execution_count": 75,
   "id": "ae3b49a4-dbc0-4363-9aca-5461466b0d26",
   "metadata": {},
   "outputs": [
    {
     "name": "stdout",
     "output_type": "stream",
     "text": [
      "Map function is very useful function as it help in defining a logic by using function as well as club iteration with it\n"
     ]
    }
   ],
   "source": [
    "ans='''Map function is very useful function as it help in defining a logic by using function as well as club iteration with it'''\n",
    "print(ans)"
   ]
  },
  {
   "cell_type": "code",
   "execution_count": 83,
   "id": "95f151b2-f51d-41a7-86ff-7f6ef5e14413",
   "metadata": {},
   "outputs": [
    {
     "data": {
      "text/plain": [
       "1"
      ]
     },
     "execution_count": 83,
     "metadata": {},
     "output_type": "execute_result"
    }
   ],
   "source": [
    "list=[1,2,3,4]\n",
    "a=map(lambda x:x**2,list) #function can be used over list by using this function\n",
    "next(a)"
   ]
  },
  {
   "cell_type": "code",
   "execution_count": 77,
   "id": "b4efc455-f2eb-4fd5-9d50-2e4601ca2ef3",
   "metadata": {},
   "outputs": [],
   "source": [
    "#Q10 What is the difference between `map()`, `reduce()`, and `filter()` functions in Python?"
   ]
  },
  {
   "cell_type": "code",
   "execution_count": 78,
   "id": "9b134bea-3e83-4e5a-8c22-9803350254e9",
   "metadata": {},
   "outputs": [],
   "source": [
    "ans='''Map function is used to club function and iteration and define that logic over whole iteration\\n\n",
    "reduce function is used to folding or reducing the iteration in one result by using that function on iteartion\\n\n",
    "filter function is used filter out desored result from list,string etc..\\n \n",
    "Examples are below:'''"
   ]
  },
  {
   "cell_type": "code",
   "execution_count": 79,
   "id": "557c5616-b54b-4c2e-99fb-7b8886646ac8",
   "metadata": {},
   "outputs": [
    {
     "data": {
      "text/plain": [
       "15"
      ]
     },
     "execution_count": 79,
     "metadata": {},
     "output_type": "execute_result"
    }
   ],
   "source": [
    "from functools import reduce #first we have to import reduce from functools library\n",
    "list=[1,2,3,4,5]\n",
    "reduce(lambda x,y:x+y,list)"
   ]
  },
  {
   "cell_type": "code",
   "execution_count": 85,
   "id": "3c3c6dbe-d784-4d5b-93e8-5c9ae81a63b3",
   "metadata": {},
   "outputs": [
    {
     "data": {
      "text/plain": [
       "2"
      ]
     },
     "execution_count": 85,
     "metadata": {},
     "output_type": "execute_result"
    }
   ],
   "source": [
    "list=[2,3,4,5,6,7,8]\n",
    "e=filter(lambda x:x%2==0,list) #even elements are filtered out from list\n",
    "next(e)"
   ]
  },
  {
   "cell_type": "code",
   "execution_count": 87,
   "id": "bdab5dcb-14cb-4454-931b-2fc4baba83f6",
   "metadata": {},
   "outputs": [
    {
     "data": {
      "text/plain": [
       "4"
      ]
     },
     "execution_count": 87,
     "metadata": {},
     "output_type": "execute_result"
    }
   ],
   "source": [
    "next(e)"
   ]
  },
  {
   "cell_type": "code",
   "execution_count": 88,
   "id": "b6fc32fe-4eee-4eed-a389-7394600c1a76",
   "metadata": {},
   "outputs": [
    {
     "data": {
      "text/plain": [
       "6"
      ]
     },
     "execution_count": 88,
     "metadata": {},
     "output_type": "execute_result"
    }
   ],
   "source": [
    "next(e)"
   ]
  },
  {
   "cell_type": "code",
   "execution_count": 89,
   "id": "11504848-9239-4fe6-b1d7-a37d9f4a8dc2",
   "metadata": {},
   "outputs": [
    {
     "data": {
      "text/plain": [
       "8"
      ]
     },
     "execution_count": 89,
     "metadata": {},
     "output_type": "execute_result"
    }
   ],
   "source": [
    "next(e)"
   ]
  },
  {
   "cell_type": "code",
   "execution_count": null,
   "id": "43fbbf9d-b474-44de-8eaf-6134f5a55ab4",
   "metadata": {},
   "outputs": [],
   "source": []
  }
 ],
 "metadata": {
  "kernelspec": {
   "display_name": "Python 3 (ipykernel)",
   "language": "python",
   "name": "python3"
  },
  "language_info": {
   "codemirror_mode": {
    "name": "ipython",
    "version": 3
   },
   "file_extension": ".py",
   "mimetype": "text/x-python",
   "name": "python",
   "nbconvert_exporter": "python",
   "pygments_lexer": "ipython3",
   "version": "3.10.8"
  }
 },
 "nbformat": 4,
 "nbformat_minor": 5
}
